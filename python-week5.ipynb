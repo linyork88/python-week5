{
 "cells": [
  {
   "cell_type": "code",
   "execution_count": 2,
   "metadata": {},
   "outputs": [
    {
     "name": "stdout",
     "output_type": "stream",
     "text": [
      "0\n",
      "1\n",
      "2\n",
      "3\n",
      "4\n",
      "5\n",
      "6\n",
      "7\n",
      "8\n",
      "9\n"
     ]
    }
   ],
   "source": [
    "for i in range(0,10):\n",
    "    print(i)"
   ]
  },
  {
   "cell_type": "code",
   "execution_count": 4,
   "metadata": {},
   "outputs": [
    {
     "name": "stdout",
     "output_type": "stream",
     "text": [
      "in the loop 0\n",
      "in the loop 1\n",
      "in the loop 2\n",
      "in the loop 3\n",
      "out of the loop 3\n"
     ]
    }
   ],
   "source": [
    "for i in range(0,10):\n",
    "    print(\"in the loop\",i)\n",
    "    if(i>2):\n",
    "        break\n",
    "print(\"out of the loop\", i)"
   ]
  },
  {
   "cell_type": "code",
   "execution_count": 7,
   "metadata": {},
   "outputs": [
    {
     "name": "stdout",
     "output_type": "stream",
     "text": [
      "in the loop 0\n",
      "in the loop 1\n",
      "in the loop 2\n",
      "out of the loop 3\n"
     ]
    }
   ],
   "source": [
    "for i in range(0,10):\n",
    "    if(i>2):\n",
    "        break\n",
    "    print(\"in the loop\",i)\n",
    "print(\"out of the loop\", i)"
   ]
  },
  {
   "cell_type": "code",
   "execution_count": 16,
   "metadata": {},
   "outputs": [
    {
     "name": "stdout",
     "output_type": "stream",
     "text": [
      "in the loop 0\n",
      "in the loop 1\n",
      "in the loop 2\n",
      "out of the loop 9\n"
     ]
    }
   ],
   "source": [
    "for i in range(0,10):\n",
    "    if(i>2):\n",
    "        continue\n",
    "    print(\"in the loop\",i)\n",
    "print(\"out of the loop\", i)"
   ]
  },
  {
   "cell_type": "code",
   "execution_count": 25,
   "metadata": {},
   "outputs": [
    {
     "name": "stdout",
     "output_type": "stream",
     "text": [
      "1 1\n",
      "2 3\n",
      "3 6\n",
      "4\n"
     ]
    }
   ],
   "source": [
    "total = 0\n",
    "num=0\n",
    "while True:\n",
    "    num +=1\n",
    "    total += num\n",
    "    # in loop\n",
    "    #print(num, total)\n",
    "    if(total >=10):\n",
    "        break\n",
    "    # out loop\n",
    "    print(num, total)\n",
    "print(num)"
   ]
  },
  {
   "cell_type": "code",
   "execution_count": 29,
   "metadata": {},
   "outputs": [
    {
     "name": "stdout",
     "output_type": "stream",
     "text": [
      "in loop 2 2\n",
      "in loop 4 6\n",
      "in loop 6 12\n",
      "6\n"
     ]
    }
   ],
   "source": [
    "total = 0\n",
    "num=0\n",
    "while True:\n",
    "    num +=2\n",
    "    total += num\n",
    "    # in loop\n",
    "    print(\"in loop\",num, total)\n",
    "    if(total >=10):\n",
    "        break\n",
    "    # out loop\n",
    "    #print(\"out loop\",num, total)\n",
    "print(num)"
   ]
  },
  {
   "cell_type": "code",
   "execution_count": 33,
   "metadata": {},
   "outputs": [
    {
     "name": "stdout",
     "output_type": "stream",
     "text": [
      "2 2\n",
      "4 6\n",
      "6 12\n",
      "6\n"
     ]
    }
   ],
   "source": [
    "total = 0\n",
    "num=0\n",
    "while True:\n",
    "    num +=1\n",
    "    if(num%2!=0):\n",
    "        continue\n",
    "    total += num\n",
    "    print(num, total)\n",
    "    if(total >=10):\n",
    "        break\n",
    "print(num)"
   ]
  },
  {
   "cell_type": "code",
   "execution_count": 34,
   "metadata": {},
   "outputs": [
    {
     "name": "stdout",
     "output_type": "stream",
     "text": [
      "1 1\n",
      "3 4\n",
      "5 9\n",
      "7 16\n",
      "7\n"
     ]
    }
   ],
   "source": [
    "total = 0\n",
    "num=0\n",
    "while True:\n",
    "    num +=1\n",
    "    if(num%2==0):\n",
    "        continue\n",
    "    total += num\n",
    "    print(num, total)\n",
    "    if(total >=10):\n",
    "        break\n",
    "print(num)"
   ]
  },
  {
   "cell_type": "code",
   "execution_count": 38,
   "metadata": {},
   "outputs": [],
   "source": [
    "import random"
   ]
  },
  {
   "cell_type": "code",
   "execution_count": 40,
   "metadata": {},
   "outputs": [
    {
     "data": {
      "text/plain": [
       "0.48829240673035035"
      ]
     },
     "execution_count": 40,
     "metadata": {},
     "output_type": "execute_result"
    }
   ],
   "source": [
    "random.random()"
   ]
  },
  {
   "cell_type": "code",
   "execution_count": 44,
   "metadata": {},
   "outputs": [
    {
     "name": "stdout",
     "output_type": "stream",
     "text": [
      "0 3\n",
      "1 3\n",
      "2 4\n",
      "3 3\n",
      "4 3\n",
      "5 2\n",
      "6 1\n",
      "7 5\n",
      "8 4\n",
      "9 2\n"
     ]
    }
   ],
   "source": [
    "for i in range(0,10):\n",
    "    print(i,random.randint(1,5))"
   ]
  },
  {
   "cell_type": "code",
   "execution_count": 52,
   "metadata": {},
   "outputs": [
    {
     "name": "stdout",
     "output_type": "stream",
     "text": [
      "10\n",
      "5\n",
      "10\n",
      "2\n",
      "7\n",
      "8\n",
      "1\n",
      "3\n",
      "10\n",
      "4\n",
      "even: 6\n",
      "odd: 4\n"
     ]
    }
   ],
   "source": [
    "odd=0\n",
    "even=0\n",
    "for i in range(0,10):\n",
    "    num=random.randint(1,10)\n",
    "    print(num)\n",
    "    if(num%2==0):\n",
    "        even +=1\n",
    "    else:\n",
    "        odd +=1\n",
    "print(\"even:\",even)\n",
    "print(\"odd:\",odd)"
   ]
  },
  {
   "cell_type": "code",
   "execution_count": 71,
   "metadata": {},
   "outputs": [
    {
     "name": "stdout",
     "output_type": "stream",
     "text": [
      "2 是質數\n"
     ]
    }
   ],
   "source": [
    "num=2\n",
    "sign=0\n",
    "for i in range(2,num):\n",
    "    if(num%i==0):\n",
    "        print(num, \"不是質數\")\n",
    "        sign=1\n",
    "        break\n",
    "if (sign==0):\n",
    "    print(num, \"是質數\")"
   ]
  },
  {
   "cell_type": "code",
   "execution_count": 76,
   "metadata": {},
   "outputs": [
    {
     "name": "stdout",
     "output_type": "stream",
     "text": [
      "2 是質數\n",
      "3 是質數\n",
      "4 不是質數\n",
      "5 是質數\n",
      "6 不是質數\n",
      "7 是質數\n",
      "8 不是質數\n",
      "9 不是質數\n",
      "10 不是質數\n"
     ]
    }
   ],
   "source": [
    "for num in range(2,11):\n",
    "    sign=0\n",
    "    for i in range(2, num):\n",
    "        if (num%i==0):\n",
    "            print(num, \"不是質數\")\n",
    "            sign=1\n",
    "            break\n",
    "    if (sign==0):\n",
    "        print(num, \"是質數\")"
   ]
  },
  {
   "cell_type": "code",
   "execution_count": 114,
   "metadata": {},
   "outputs": [
    {
     "name": "stdout",
     "output_type": "stream",
     "text": [
      "2 是質數\n",
      "3 / 2 = 1 ... 1\n",
      "3 是質數\n",
      "4 / 2 = 2 ... 0\n",
      "4 不是質數\n",
      "5 / 2 = 2 ... 1\n",
      "5 / 3 = 1 ... 2\n",
      "5 / 4 = 1 ... 1\n",
      "5 是質數\n",
      "6 / 2 = 3 ... 0\n",
      "6 不是質數\n",
      "7 / 2 = 3 ... 1\n",
      "7 / 3 = 2 ... 1\n",
      "7 / 4 = 1 ... 3\n",
      "7 / 5 = 1 ... 2\n",
      "7 / 6 = 1 ... 1\n",
      "7 是質數\n",
      "8 / 2 = 4 ... 0\n",
      "8 不是質數\n",
      "9 / 2 = 4 ... 1\n",
      "9 / 3 = 3 ... 0\n",
      "9 不是質數\n",
      "10 / 2 = 5 ... 0\n",
      "10 不是質數\n"
     ]
    }
   ],
   "source": [
    "for j in range(2,11):\n",
    "    num=j\n",
    "    sign=0\n",
    "    for i in range(2, num):\n",
    "        print(num,\"/\",i,\"=\",int(num/i),\"...\",num%i)\n",
    "        if (num%i==0):\n",
    "            print(num, \"不是質數\")\n",
    "            sign=1\n",
    "            break\n",
    "    if (sign==0):\n",
    "        print(num, \"是質數\")"
   ]
  },
  {
   "cell_type": "code",
   "execution_count": null,
   "metadata": {},
   "outputs": [],
   "source": []
  }
 ],
 "metadata": {
  "kernelspec": {
   "display_name": "Python 3",
   "language": "python",
   "name": "python3"
  },
  "language_info": {
   "codemirror_mode": {
    "name": "ipython",
    "version": 3
   },
   "file_extension": ".py",
   "mimetype": "text/x-python",
   "name": "python",
   "nbconvert_exporter": "python",
   "pygments_lexer": "ipython3",
   "version": "3.7.3"
  }
 },
 "nbformat": 4,
 "nbformat_minor": 2
}
